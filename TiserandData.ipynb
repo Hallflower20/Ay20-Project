{
 "cells": [
  {
   "cell_type": "code",
   "execution_count": 1,
   "metadata": {},
   "outputs": [],
   "source": [
    "import numpy as np\n",
    "import pandas as pd\n",
    "import glob\n",
    "from astropy.table import Table\n",
    "import matplotlib.pyplot as plt\n",
    "import json \n",
    "import collections\n",
    "import astropy"
   ]
  },
  {
   "cell_type": "code",
   "execution_count": 2,
   "metadata": {},
   "outputs": [],
   "source": [
    "import astropy.units as u\n",
    "from astropy.time import Time\n",
    "from astropy.coordinates import SkyCoord, EarthLocation, AltAz"
   ]
  },
  {
   "cell_type": "code",
   "execution_count": 3,
   "metadata": {},
   "outputs": [],
   "source": [
    "from astropy.io import fits"
   ]
  },
  {
   "cell_type": "code",
   "execution_count": 4,
   "metadata": {},
   "outputs": [],
   "source": [
    "data = Table(fits.open(\"asu.fit\")[1].data)"
   ]
  },
  {
   "cell_type": "code",
   "execution_count": 5,
   "metadata": {},
   "outputs": [],
   "source": [
    "info = data[\"_RAJ2000\", \"_DEJ2000\", \"WiseID\"]"
   ]
  },
  {
   "cell_type": "code",
   "execution_count": 6,
   "metadata": {},
   "outputs": [],
   "source": [
    "info.to_pandas().to_csv(\"radecid.csv\", index = False)"
   ]
  },
  {
   "cell_type": "code",
   "execution_count": 7,
   "metadata": {},
   "outputs": [],
   "source": [
    "gaia_data = Table(fits.open(\"1634333877715O-result.fits\")[1].data)"
   ]
  },
  {
   "cell_type": "code",
   "execution_count": 8,
   "metadata": {},
   "outputs": [],
   "source": [
    "gaia_data_good = gaia_data[np.where((gaia_data[\"parallax\"] > 0) & (np.isnan(gaia_data[\"bp_rp\"]) == False) & (gaia_data[\"phot_g_mean_mag\"] < 16.5))]"
   ]
  },
  {
   "cell_type": "code",
   "execution_count": 9,
   "metadata": {},
   "outputs": [],
   "source": [
    "distance = 1/(gaia_data_good[\"parallax\"]/1000)\n",
    "absolute_M = gaia_data_good[\"phot_g_mean_mag\"] - 5 * np.log10(distance)"
   ]
  },
  {
   "cell_type": "code",
   "execution_count": 10,
   "metadata": {},
   "outputs": [
    {
     "data": {
      "text/plain": [
       "Text(0.5, 1.0, 'HR Diagram of the stars in M67')"
      ]
     },
     "execution_count": 10,
     "metadata": {},
     "output_type": "execute_result"
    },
    {
     "data": {
      "image/png": "[encoded data removed]",
      "text/plain": [
       "<Figure size 720x720 with 1 Axes>"
      ]
     },
     "metadata": {
      "needs_background": "light"
     },
     "output_type": "display_data"
    }
   ],
   "source": [
    "fig, ax = plt.subplots(figsize = (10,10))\n",
    "ax.hist2d(gaia_data_good[\"bp_rp\"], absolute_M, bins = 100)\n",
    "ax.invert_yaxis()\n",
    "plt.ylabel(\"G Absolute Magnitude\")\n",
    "plt.xlabel(\"B Magnitude - R Magnitude\")\n",
    "plt.title(\"HR Diagram of the stars in M67\")"
   ]
  },
  {
   "cell_type": "code",
   "execution_count": 11,
   "metadata": {},
   "outputs": [],
   "source": [
    "best_options = gaia_data_good[np.where((absolute_M < -4))]"
   ]
  },
  {
   "cell_type": "code",
   "execution_count": 12,
   "metadata": {},
   "outputs": [],
   "source": [
    "best_options.rename_column('wiseid', 'WiseID')"
   ]
  },
  {
   "cell_type": "code",
   "execution_count": 13,
   "metadata": {},
   "outputs": [],
   "source": [
    "joined = astropy.table.join(data, best_options)"
   ]
  },
  {
   "cell_type": "code",
   "execution_count": 14,
   "metadata": {},
   "outputs": [],
   "source": [
    "locations = joined[\"WiseID\", \"source_id\", \"ra\", \"dec\"]"
   ]
  },
  {
   "cell_type": "code",
   "execution_count": 15,
   "metadata": {},
   "outputs": [],
   "source": [
    "utcoffset = -7*u.hour"
   ]
  },
  {
   "cell_type": "code",
   "execution_count": 16,
   "metadata": {},
   "outputs": [],
   "source": [
    "c = SkyCoord(ra = joined[\"ra\"], dec = joined[\"dec\"], frame=\"icrs\", unit=\"deg\")"
   ]
  },
  {
   "cell_type": "code",
   "execution_count": 17,
   "metadata": {},
   "outputs": [],
   "source": [
    "palomar = astropy.coordinates.EarthLocation.of_site(\"palomar\")"
   ]
  },
  {
   "cell_type": "code",
   "execution_count": 18,
   "metadata": {},
   "outputs": [],
   "source": [
    "time = Time('2021-10-22 23:00:00') - utcoffset"
   ]
  },
  {
   "cell_type": "code",
   "execution_count": 19,
   "metadata": {},
   "outputs": [],
   "source": [
    "c_altaz = c.transform_to(AltAz(obstime = time, location = palomar))"
   ]
  },
  {
   "cell_type": "code",
   "execution_count": 20,
   "metadata": {},
   "outputs": [],
   "source": [
    "airmass = c_altaz.secz"
   ]
  },
  {
   "cell_type": "code",
   "execution_count": 21,
   "metadata": {},
   "outputs": [],
   "source": [
    "airmass_np = np.array(airmass)"
   ]
  },
  {
   "cell_type": "code",
   "execution_count": 22,
   "metadata": {},
   "outputs": [],
   "source": [
    "alt = np.array(c_altaz.alt)\n",
    "az = np.array(c_altaz.az)"
   ]
  },
  {
   "cell_type": "code",
   "execution_count": 23,
   "metadata": {},
   "outputs": [],
   "source": [
    "joined[\"airmass\"] = airmass_np\n",
    "joined[\"alt\"] = alt\n",
    "joined[\"az\"] = az"
   ]
  },
  {
   "cell_type": "code",
   "execution_count": 24,
   "metadata": {},
   "outputs": [],
   "source": [
    "moon = astropy.coordinates.get_moon(time = time, location = palomar)"
   ]
  },
  {
   "cell_type": "code",
   "execution_count": 25,
   "metadata": {},
   "outputs": [],
   "source": [
    "moon_altaz = moon.transform_to(AltAz(obstime = time, location = palomar))"
   ]
  },
  {
   "cell_type": "code",
   "execution_count": 26,
   "metadata": {},
   "outputs": [
    {
     "data": {
      "text/plain": [
       "<SkyCoord (AltAz: obstime=2021-10-23 06:00:00.000, location=(-2410346.78217658, -4758666.82504051, 3487942.97502457) m, pressure=0.0 hPa, temperature=0.0 deg_C, relative_humidity=0.0, obswl=1.0 micron): (az, alt, distance) in (deg, deg, m)\n",
       "    (92.95808116, 41.45915347, 4.00482372e+08)>"
      ]
     },
     "execution_count": 26,
     "metadata": {},
     "output_type": "execute_result"
    }
   ],
   "source": [
    "moon_altaz"
   ]
  },
  {
   "cell_type": "code",
   "execution_count": 27,
   "metadata": {},
   "outputs": [],
   "source": [
    "moon_sep = np.array(moon_altaz.separation(c_altaz))"
   ]
  },
  {
   "cell_type": "code",
   "execution_count": 28,
   "metadata": {},
   "outputs": [],
   "source": [
    "joined[\"moon_sep\"] = moon_sep"
   ]
  },
  {
   "cell_type": "code",
   "execution_count": 40,
   "metadata": {},
   "outputs": [
    {
     "data": {
      "text/plain": [
       "(array([25., 15.,  8.,  8., 11.,  9., 10.,  4.,  2.,  1.]),\n",
       " array([1.02767273, 1.22420422, 1.4207357 , 1.61726719, 1.81379868,\n",
       "        2.01033017, 2.20686165, 2.40339314, 2.59992463, 2.79645612,\n",
       "        2.9929876 ]),\n",
       " <BarContainer object of 10 artists>)"
      ]
     },
     "execution_count": 40,
     "metadata": {},
     "output_type": "execute_result"
    },
    {
     "data": {
      "image/png": "[encoded data removed]",
      "text/plain": [
       "<Figure size 432x288 with 1 Axes>"
      ]
     },
     "metadata": {
      "needs_background": "light"
     },
     "output_type": "display_data"
    }
   ],
   "source": [
    "visible = joined[np.where((joined[\"airmass\"] > 1) & (joined[\"airmass\"] < 3) & (joined[\"moon_sep\"] > 20))]\n",
    "plt.hist(visible[\"airmass\"])"
   ]
  },
  {
   "cell_type": "code",
   "execution_count": 41,
   "metadata": {},
   "outputs": [],
   "source": [
    "visible.to_pandas().to_csv(\"visible.csv\")"
   ]
  },
  {
   "cell_type": "code",
   "execution_count": 42,
   "metadata": {},
   "outputs": [
    {
     "data": {
      "text/html": [
       "&lt;Column name=&apos;SType&apos; dtype=&apos;str4&apos; length=18&gt;\n",
       "<table>\n",
       "<tr><td></td></tr>\n",
       "<tr><td>*</td></tr>\n",
       "<tr><td>*iA</td></tr>\n",
       "<tr><td>Ae*</td></tr>\n",
       "<tr><td>Be*</td></tr>\n",
       "<tr><td>C*</td></tr>\n",
       "<tr><td>Em*</td></tr>\n",
       "<tr><td>IR</td></tr>\n",
       "<tr><td>LP*</td></tr>\n",
       "<tr><td>Mi*</td></tr>\n",
       "<tr><td>RV*</td></tr>\n",
       "<tr><td>Sy*</td></tr>\n",
       "<tr><td>V*</td></tr>\n",
       "<tr><td>WR*</td></tr>\n",
       "<tr><td>WV*</td></tr>\n",
       "<tr><td>Y*O</td></tr>\n",
       "<tr><td>pA*</td></tr>\n",
       "<tr><td>sr*</td></tr>\n",
       "</table>"
      ],
      "text/plain": [
       "<Column name='SType' dtype='str4' length=18>\n",
       "    \n",
       "*   \n",
       "*iA \n",
       "Ae* \n",
       "Be* \n",
       "C*  \n",
       "Em* \n",
       "IR  \n",
       "LP* \n",
       "Mi* \n",
       "RV* \n",
       "Sy* \n",
       "V*  \n",
       "WR* \n",
       "WV* \n",
       "Y*O \n",
       "pA* \n",
       "sr* "
      ]
     },
     "execution_count": 42,
     "metadata": {},
     "output_type": "execute_result"
    }
   ],
   "source": [
    "np.unique(visible[\"SType\"])"
   ]
  },
  {
   "cell_type": "code",
   "execution_count": 44,
   "metadata": {},
   "outputs": [
    {
     "data": {
      "text/html": [
       "<i>Table length=93</i>\n",
       "<table id=\"table2006083394096\" class=\"table-striped table-bordered table-condensed\">\n",
       "<thead><tr><th>ra</th><th>dec</th></tr></thead>\n",
       "<thead><tr><th>float64</th><th>float64</th></tr></thead>\n",
       "<tr><td>2.1755100290452916</td><td>63.009350314872854</td></tr>\n",
       "<tr><td>4.704317800991182</td><td>58.62286894622674</td></tr>\n",
       "<tr><td>4.794283260095182</td><td>52.03424331503062</td></tr>\n",
       "<tr><td>7.338255698779419</td><td>64.81405828931211</td></tr>\n",
       "<tr><td>11.617747391908509</td><td>58.90579488512996</td></tr>\n",
       "<tr><td>12.093001394512248</td><td>74.29927798726271</td></tr>\n",
       "<tr><td>12.448067361917566</td><td>63.63612090023577</td></tr>\n",
       "<tr><td>12.866991529986613</td><td>64.94769879878487</td></tr>\n",
       "<tr><td>16.250455137088746</td><td>-5.667735483341909</td></tr>\n",
       "<tr><td>16.650643489342514</td><td>59.769289557732804</td></tr>\n",
       "<tr><td>...</td><td>...</td></tr>\n",
       "<tr><td>331.55916712968775</td><td>60.03459241490177</td></tr>\n",
       "<tr><td>333.21882545590586</td><td>43.75020633664606</td></tr>\n",
       "<tr><td>333.7365095017828</td><td>56.7891210384714</td></tr>\n",
       "<tr><td>333.9998962991117</td><td>60.86919163002898</td></tr>\n",
       "<tr><td>337.1941625126542</td><td>50.57002335779193</td></tr>\n",
       "<tr><td>337.2537408729607</td><td>40.315500022507734</td></tr>\n",
       "<tr><td>340.67425942552177</td><td>60.40017141451815</td></tr>\n",
       "<tr><td>343.9026967082293</td><td>58.38931102160153</td></tr>\n",
       "<tr><td>350.156606029633</td><td>39.62057681331675</td></tr>\n",
       "<tr><td>356.6066964645052</td><td>56.665709962557614</td></tr>\n",
       "</table>"
      ],
      "text/plain": [
       "<Table length=93>\n",
       "        ra                dec        \n",
       "     float64            float64      \n",
       "------------------ ------------------\n",
       "2.1755100290452916 63.009350314872854\n",
       " 4.704317800991182  58.62286894622674\n",
       " 4.794283260095182  52.03424331503062\n",
       " 7.338255698779419  64.81405828931211\n",
       "11.617747391908509  58.90579488512996\n",
       "12.093001394512248  74.29927798726271\n",
       "12.448067361917566  63.63612090023577\n",
       "12.866991529986613  64.94769879878487\n",
       "16.250455137088746 -5.667735483341909\n",
       "16.650643489342514 59.769289557732804\n",
       "               ...                ...\n",
       "331.55916712968775  60.03459241490177\n",
       "333.21882545590586  43.75020633664606\n",
       " 333.7365095017828   56.7891210384714\n",
       " 333.9998962991117  60.86919163002898\n",
       " 337.1941625126542  50.57002335779193\n",
       " 337.2537408729607 40.315500022507734\n",
       "340.67425942552177  60.40017141451815\n",
       " 343.9026967082293  58.38931102160153\n",
       "  350.156606029633  39.62057681331675\n",
       " 356.6066964645052 56.665709962557614"
      ]
     },
     "execution_count": 44,
     "metadata": {},
     "output_type": "execute_result"
    }
   ],
   "source": [
    "visible[\"ra\", \"dec\"]"
   ]
  },
  {
   "cell_type": "code",
   "execution_count": null,
   "metadata": {},
   "outputs": [],
   "source": []
  }
 ],
 "metadata": {
  "kernelspec": {
   "display_name": "Python 3",
   "language": "python",
   "name": "python3"
  },
  "language_info": {
   "codemirror_mode": {
    "name": "ipython",
    "version": 3
   },
   "file_extension": ".py",
   "mimetype": "text/x-python",
   "name": "python",
   "nbconvert_exporter": "python",
   "pygments_lexer": "ipython3",
   "version": "3.8.5"
  }
 },
 "nbformat": 4,
 "nbformat_minor": 4
}
